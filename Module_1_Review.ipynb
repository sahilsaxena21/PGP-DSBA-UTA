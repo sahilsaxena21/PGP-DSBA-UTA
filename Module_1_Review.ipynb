{
 "cells": [
  {
   "cell_type": "markdown",
   "metadata": {},
   "source": [
    "# Week 5 Session Agenda "
   ]
  },
  {
   "cell_type": "markdown",
   "metadata": {},
   "source": [
    "## Pandas Familiarity Test"
   ]
  },
  {
   "cell_type": "code",
   "execution_count": 1,
   "metadata": {},
   "outputs": [],
   "source": [
    "import numpy as np\n",
    "import pandas as pd\n",
    "\n",
    "import matplotlib.pyplot as plt\n",
    "import seaborn as sns\n",
    "\n",
    "#show all columns of a dataframe\n",
    "pd.set_option('display.max_columns', None)\n",
    "pd.set_option('display.float_format', lambda x: '%.5f' % x) # To supress numerical display in scientific notations\n"
   ]
  },
  {
   "cell_type": "markdown",
   "metadata": {},
   "source": [
    "What syntax do we use if we want to:\n",
    "\n",
    "- Is this going to return a df or series? df[\"col_1\"] : series\n",
    "- Find the number of rows and columns? : df.shape\n",
    "- get the data types for all columns : df.info() \n",
    "- get the min/max/quartiles info of the columns : df.describe()\n",
    "- get the count of unique values of a column : df[\"col_1\"].value_counts()\n",
    "- get the sum of the entire column: df[\"col_1\"].sum()\n",
    "- get the sum of not the entire column, but sum of each of different subsets of the data: df.groupby(\"col_1\")[\"col_2\"].sum()\n",
    "- get the number of unique values of a col: df[\"col_1\"].nunique()\n",
    "- get all the unique values of a col: df[\"col_1\"].unique()\n",
    "- multiply certain values of a column by *0.10: df[\"col_2\"] = df[\"col_1\"].apply(some_function)\n",
    "- change a column from string to float: df[\"col_1\"].astype()\n",
    "- create a dataframe from series: df_new = pd.DataFrame(series_a)\n",
    "- filter a dataframe: df[df[\"col_1\"] > 4.5]\n",
    "- sort values of a dataframe/series: df.sort_values(by = \"col_1\", ascending = True/False) / series_a.sort_values(...)\n",
    "- make consective row index of dataframe: df.reset_index(drop = True, inplace = True) or df = df.reset_index(drop = True)"
   ]
  },
  {
   "cell_type": "code",
   "execution_count": 2,
   "metadata": {},
   "outputs": [
    {
     "data": {
      "text/html": [
       "<div>\n",
       "<style scoped>\n",
       "    .dataframe tbody tr th:only-of-type {\n",
       "        vertical-align: middle;\n",
       "    }\n",
       "\n",
       "    .dataframe tbody tr th {\n",
       "        vertical-align: top;\n",
       "    }\n",
       "\n",
       "    .dataframe thead th {\n",
       "        text-align: right;\n",
       "    }\n",
       "</style>\n",
       "<table border=\"1\" class=\"dataframe\">\n",
       "  <thead>\n",
       "    <tr style=\"text-align: right;\">\n",
       "      <th></th>\n",
       "      <th>sepal_length</th>\n",
       "      <th>sepal_width</th>\n",
       "      <th>petal_length</th>\n",
       "      <th>petal_width</th>\n",
       "      <th>species</th>\n",
       "    </tr>\n",
       "  </thead>\n",
       "  <tbody>\n",
       "    <tr>\n",
       "      <th>0</th>\n",
       "      <td>5.10000</td>\n",
       "      <td>3.50000</td>\n",
       "      <td>1.40000</td>\n",
       "      <td>0.20000</td>\n",
       "      <td>setosa</td>\n",
       "    </tr>\n",
       "    <tr>\n",
       "      <th>1</th>\n",
       "      <td>4.90000</td>\n",
       "      <td>3.00000</td>\n",
       "      <td>1.40000</td>\n",
       "      <td>0.20000</td>\n",
       "      <td>setosa</td>\n",
       "    </tr>\n",
       "  </tbody>\n",
       "</table>\n",
       "</div>"
      ],
      "text/plain": [
       "   sepal_length  sepal_width  petal_length  petal_width species\n",
       "0       5.10000      3.50000       1.40000      0.20000  setosa\n",
       "1       4.90000      3.00000       1.40000      0.20000  setosa"
      ]
     },
     "execution_count": 2,
     "metadata": {},
     "output_type": "execute_result"
    }
   ],
   "source": [
    "import pandas as pd\n",
    "import seaborn as sns\n",
    "\n",
    "df = sns.load_dataset(\"iris\")\n",
    "df.head(2)"
   ]
  },
  {
   "cell_type": "code",
   "execution_count": 3,
   "metadata": {},
   "outputs": [
    {
     "name": "stdout",
     "output_type": "stream",
     "text": [
      "<class 'pandas.core.frame.DataFrame'>\n",
      "RangeIndex: 150 entries, 0 to 149\n",
      "Data columns (total 5 columns):\n",
      " #   Column        Non-Null Count  Dtype  \n",
      "---  ------        --------------  -----  \n",
      " 0   sepal_length  150 non-null    float64\n",
      " 1   sepal_width   150 non-null    float64\n",
      " 2   petal_length  150 non-null    float64\n",
      " 3   petal_width   150 non-null    float64\n",
      " 4   species       150 non-null    object \n",
      "dtypes: float64(4), object(1)\n",
      "memory usage: 6.0+ KB\n"
     ]
    }
   ],
   "source": [
    "df.info()"
   ]
  },
  {
   "cell_type": "code",
   "execution_count": 4,
   "metadata": {},
   "outputs": [
    {
     "data": {
      "text/html": [
       "<div>\n",
       "<style scoped>\n",
       "    .dataframe tbody tr th:only-of-type {\n",
       "        vertical-align: middle;\n",
       "    }\n",
       "\n",
       "    .dataframe tbody tr th {\n",
       "        vertical-align: top;\n",
       "    }\n",
       "\n",
       "    .dataframe thead th {\n",
       "        text-align: right;\n",
       "    }\n",
       "</style>\n",
       "<table border=\"1\" class=\"dataframe\">\n",
       "  <thead>\n",
       "    <tr style=\"text-align: right;\">\n",
       "      <th></th>\n",
       "      <th>sepal_length</th>\n",
       "      <th>sepal_width</th>\n",
       "      <th>petal_length</th>\n",
       "      <th>petal_width</th>\n",
       "      <th>species</th>\n",
       "    </tr>\n",
       "  </thead>\n",
       "  <tbody>\n",
       "    <tr>\n",
       "      <th>0</th>\n",
       "      <td>5.10000</td>\n",
       "      <td>3.50000</td>\n",
       "      <td>1.40000</td>\n",
       "      <td>0.20000</td>\n",
       "      <td>setosa</td>\n",
       "    </tr>\n",
       "    <tr>\n",
       "      <th>1</th>\n",
       "      <td>4.90000</td>\n",
       "      <td>3.00000</td>\n",
       "      <td>1.40000</td>\n",
       "      <td>0.20000</td>\n",
       "      <td>setosa</td>\n",
       "    </tr>\n",
       "  </tbody>\n",
       "</table>\n",
       "</div>"
      ],
      "text/plain": [
       "   sepal_length  sepal_width  petal_length  petal_width species\n",
       "0       5.10000      3.50000       1.40000      0.20000  setosa\n",
       "1       4.90000      3.00000       1.40000      0.20000  setosa"
      ]
     },
     "execution_count": 4,
     "metadata": {},
     "output_type": "execute_result"
    }
   ],
   "source": [
    "#astype accepts \"int\", \"float\", \"string\".\n",
    "df[\"sepal_length\"] = df[\"sepal_length\"].astype('string')\n",
    "df[\"sepal_length\"] = df[\"sepal_length\"].astype('float')\n",
    "df.head(2)"
   ]
  },
  {
   "cell_type": "code",
   "execution_count": 5,
   "metadata": {},
   "outputs": [
    {
     "data": {
      "text/html": [
       "<div>\n",
       "<style scoped>\n",
       "    .dataframe tbody tr th:only-of-type {\n",
       "        vertical-align: middle;\n",
       "    }\n",
       "\n",
       "    .dataframe tbody tr th {\n",
       "        vertical-align: top;\n",
       "    }\n",
       "\n",
       "    .dataframe thead th {\n",
       "        text-align: right;\n",
       "    }\n",
       "</style>\n",
       "<table border=\"1\" class=\"dataframe\">\n",
       "  <thead>\n",
       "    <tr style=\"text-align: right;\">\n",
       "      <th></th>\n",
       "      <th>sepal_length</th>\n",
       "      <th>sepal_width</th>\n",
       "      <th>petal_length</th>\n",
       "      <th>petal_width</th>\n",
       "      <th>species</th>\n",
       "      <th>new_sepal_length</th>\n",
       "    </tr>\n",
       "  </thead>\n",
       "  <tbody>\n",
       "    <tr>\n",
       "      <th>0</th>\n",
       "      <td>5.10000</td>\n",
       "      <td>3.50000</td>\n",
       "      <td>1.40000</td>\n",
       "      <td>0.20000</td>\n",
       "      <td>setosa</td>\n",
       "      <td>5.61000</td>\n",
       "    </tr>\n",
       "    <tr>\n",
       "      <th>1</th>\n",
       "      <td>4.90000</td>\n",
       "      <td>3.00000</td>\n",
       "      <td>1.40000</td>\n",
       "      <td>0.20000</td>\n",
       "      <td>setosa</td>\n",
       "      <td>5.39000</td>\n",
       "    </tr>\n",
       "    <tr>\n",
       "      <th>2</th>\n",
       "      <td>4.70000</td>\n",
       "      <td>3.20000</td>\n",
       "      <td>1.30000</td>\n",
       "      <td>0.20000</td>\n",
       "      <td>setosa</td>\n",
       "      <td>5.17000</td>\n",
       "    </tr>\n",
       "    <tr>\n",
       "      <th>3</th>\n",
       "      <td>4.60000</td>\n",
       "      <td>3.10000</td>\n",
       "      <td>1.50000</td>\n",
       "      <td>0.20000</td>\n",
       "      <td>setosa</td>\n",
       "      <td>5.06000</td>\n",
       "    </tr>\n",
       "    <tr>\n",
       "      <th>4</th>\n",
       "      <td>5.00000</td>\n",
       "      <td>3.60000</td>\n",
       "      <td>1.40000</td>\n",
       "      <td>0.20000</td>\n",
       "      <td>setosa</td>\n",
       "      <td>5.50000</td>\n",
       "    </tr>\n",
       "    <tr>\n",
       "      <th>5</th>\n",
       "      <td>5.40000</td>\n",
       "      <td>3.90000</td>\n",
       "      <td>1.70000</td>\n",
       "      <td>0.40000</td>\n",
       "      <td>setosa</td>\n",
       "      <td>5.94000</td>\n",
       "    </tr>\n",
       "    <tr>\n",
       "      <th>6</th>\n",
       "      <td>4.60000</td>\n",
       "      <td>3.40000</td>\n",
       "      <td>1.40000</td>\n",
       "      <td>0.30000</td>\n",
       "      <td>setosa</td>\n",
       "      <td>5.06000</td>\n",
       "    </tr>\n",
       "    <tr>\n",
       "      <th>7</th>\n",
       "      <td>5.00000</td>\n",
       "      <td>3.40000</td>\n",
       "      <td>1.50000</td>\n",
       "      <td>0.20000</td>\n",
       "      <td>setosa</td>\n",
       "      <td>5.50000</td>\n",
       "    </tr>\n",
       "    <tr>\n",
       "      <th>8</th>\n",
       "      <td>4.40000</td>\n",
       "      <td>2.90000</td>\n",
       "      <td>1.40000</td>\n",
       "      <td>0.20000</td>\n",
       "      <td>setosa</td>\n",
       "      <td>4.40000</td>\n",
       "    </tr>\n",
       "    <tr>\n",
       "      <th>9</th>\n",
       "      <td>4.90000</td>\n",
       "      <td>3.10000</td>\n",
       "      <td>1.50000</td>\n",
       "      <td>0.10000</td>\n",
       "      <td>setosa</td>\n",
       "      <td>5.39000</td>\n",
       "    </tr>\n",
       "    <tr>\n",
       "      <th>10</th>\n",
       "      <td>5.40000</td>\n",
       "      <td>3.70000</td>\n",
       "      <td>1.50000</td>\n",
       "      <td>0.20000</td>\n",
       "      <td>setosa</td>\n",
       "      <td>5.94000</td>\n",
       "    </tr>\n",
       "    <tr>\n",
       "      <th>11</th>\n",
       "      <td>4.80000</td>\n",
       "      <td>3.40000</td>\n",
       "      <td>1.60000</td>\n",
       "      <td>0.20000</td>\n",
       "      <td>setosa</td>\n",
       "      <td>5.28000</td>\n",
       "    </tr>\n",
       "    <tr>\n",
       "      <th>12</th>\n",
       "      <td>4.80000</td>\n",
       "      <td>3.00000</td>\n",
       "      <td>1.40000</td>\n",
       "      <td>0.10000</td>\n",
       "      <td>setosa</td>\n",
       "      <td>5.28000</td>\n",
       "    </tr>\n",
       "    <tr>\n",
       "      <th>13</th>\n",
       "      <td>4.30000</td>\n",
       "      <td>3.00000</td>\n",
       "      <td>1.10000</td>\n",
       "      <td>0.10000</td>\n",
       "      <td>setosa</td>\n",
       "      <td>4.30000</td>\n",
       "    </tr>\n",
       "    <tr>\n",
       "      <th>14</th>\n",
       "      <td>5.80000</td>\n",
       "      <td>4.00000</td>\n",
       "      <td>1.20000</td>\n",
       "      <td>0.20000</td>\n",
       "      <td>setosa</td>\n",
       "      <td>6.38000</td>\n",
       "    </tr>\n",
       "    <tr>\n",
       "      <th>15</th>\n",
       "      <td>5.70000</td>\n",
       "      <td>4.40000</td>\n",
       "      <td>1.50000</td>\n",
       "      <td>0.40000</td>\n",
       "      <td>setosa</td>\n",
       "      <td>6.27000</td>\n",
       "    </tr>\n",
       "    <tr>\n",
       "      <th>16</th>\n",
       "      <td>5.40000</td>\n",
       "      <td>3.90000</td>\n",
       "      <td>1.30000</td>\n",
       "      <td>0.40000</td>\n",
       "      <td>setosa</td>\n",
       "      <td>5.94000</td>\n",
       "    </tr>\n",
       "    <tr>\n",
       "      <th>17</th>\n",
       "      <td>5.10000</td>\n",
       "      <td>3.50000</td>\n",
       "      <td>1.40000</td>\n",
       "      <td>0.30000</td>\n",
       "      <td>setosa</td>\n",
       "      <td>5.61000</td>\n",
       "    </tr>\n",
       "    <tr>\n",
       "      <th>18</th>\n",
       "      <td>5.70000</td>\n",
       "      <td>3.80000</td>\n",
       "      <td>1.70000</td>\n",
       "      <td>0.30000</td>\n",
       "      <td>setosa</td>\n",
       "      <td>6.27000</td>\n",
       "    </tr>\n",
       "    <tr>\n",
       "      <th>19</th>\n",
       "      <td>5.10000</td>\n",
       "      <td>3.80000</td>\n",
       "      <td>1.50000</td>\n",
       "      <td>0.30000</td>\n",
       "      <td>setosa</td>\n",
       "      <td>5.61000</td>\n",
       "    </tr>\n",
       "  </tbody>\n",
       "</table>\n",
       "</div>"
      ],
      "text/plain": [
       "    sepal_length  sepal_width  petal_length  petal_width species  \\\n",
       "0        5.10000      3.50000       1.40000      0.20000  setosa   \n",
       "1        4.90000      3.00000       1.40000      0.20000  setosa   \n",
       "2        4.70000      3.20000       1.30000      0.20000  setosa   \n",
       "3        4.60000      3.10000       1.50000      0.20000  setosa   \n",
       "4        5.00000      3.60000       1.40000      0.20000  setosa   \n",
       "5        5.40000      3.90000       1.70000      0.40000  setosa   \n",
       "6        4.60000      3.40000       1.40000      0.30000  setosa   \n",
       "7        5.00000      3.40000       1.50000      0.20000  setosa   \n",
       "8        4.40000      2.90000       1.40000      0.20000  setosa   \n",
       "9        4.90000      3.10000       1.50000      0.10000  setosa   \n",
       "10       5.40000      3.70000       1.50000      0.20000  setosa   \n",
       "11       4.80000      3.40000       1.60000      0.20000  setosa   \n",
       "12       4.80000      3.00000       1.40000      0.10000  setosa   \n",
       "13       4.30000      3.00000       1.10000      0.10000  setosa   \n",
       "14       5.80000      4.00000       1.20000      0.20000  setosa   \n",
       "15       5.70000      4.40000       1.50000      0.40000  setosa   \n",
       "16       5.40000      3.90000       1.30000      0.40000  setosa   \n",
       "17       5.10000      3.50000       1.40000      0.30000  setosa   \n",
       "18       5.70000      3.80000       1.70000      0.30000  setosa   \n",
       "19       5.10000      3.80000       1.50000      0.30000  setosa   \n",
       "\n",
       "    new_sepal_length  \n",
       "0            5.61000  \n",
       "1            5.39000  \n",
       "2            5.17000  \n",
       "3            5.06000  \n",
       "4            5.50000  \n",
       "5            5.94000  \n",
       "6            5.06000  \n",
       "7            5.50000  \n",
       "8            4.40000  \n",
       "9            5.39000  \n",
       "10           5.94000  \n",
       "11           5.28000  \n",
       "12           5.28000  \n",
       "13           4.30000  \n",
       "14           6.38000  \n",
       "15           6.27000  \n",
       "16           5.94000  \n",
       "17           5.61000  \n",
       "18           6.27000  \n",
       "19           5.61000  "
      ]
     },
     "execution_count": 5,
     "metadata": {},
     "output_type": "execute_result"
    }
   ],
   "source": [
    "def add_ten_percent(y):\n",
    "    if y > 4.5:  \n",
    "        return y*1.10\n",
    "    else:\n",
    "        return y\n",
    "\n",
    "df[\"new_sepal_length\"] = df[\"sepal_length\"].apply(add_ten_percent)\n",
    "df.head(20)"
   ]
  },
  {
   "cell_type": "code",
   "execution_count": 6,
   "metadata": {},
   "outputs": [
    {
     "data": {
      "text/plain": [
       "virginica     50\n",
       "versicolor    50\n",
       "setosa        50\n",
       "Name: species, dtype: int64"
      ]
     },
     "execution_count": 6,
     "metadata": {},
     "output_type": "execute_result"
    }
   ],
   "source": [
    "df[\"species\"].value_counts()"
   ]
  },
  {
   "cell_type": "code",
   "execution_count": 7,
   "metadata": {},
   "outputs": [
    {
     "name": "stdout",
     "output_type": "stream",
     "text": [
      "<class 'pandas.core.frame.DataFrame'>\n",
      "RangeIndex: 150 entries, 0 to 149\n",
      "Data columns (total 6 columns):\n",
      " #   Column            Non-Null Count  Dtype  \n",
      "---  ------            --------------  -----  \n",
      " 0   sepal_length      150 non-null    float64\n",
      " 1   sepal_width       150 non-null    float64\n",
      " 2   petal_length      150 non-null    float64\n",
      " 3   petal_width       150 non-null    float64\n",
      " 4   species           150 non-null    object \n",
      " 5   new_sepal_length  150 non-null    float64\n",
      "dtypes: float64(5), object(1)\n",
      "memory usage: 7.2+ KB\n"
     ]
    }
   ],
   "source": [
    "df.info()"
   ]
  },
  {
   "cell_type": "code",
   "execution_count": 8,
   "metadata": {},
   "outputs": [
    {
     "data": {
      "text/html": [
       "<div>\n",
       "<style scoped>\n",
       "    .dataframe tbody tr th:only-of-type {\n",
       "        vertical-align: middle;\n",
       "    }\n",
       "\n",
       "    .dataframe tbody tr th {\n",
       "        vertical-align: top;\n",
       "    }\n",
       "\n",
       "    .dataframe thead th {\n",
       "        text-align: right;\n",
       "    }\n",
       "</style>\n",
       "<table border=\"1\" class=\"dataframe\">\n",
       "  <thead>\n",
       "    <tr style=\"text-align: right;\">\n",
       "      <th></th>\n",
       "      <th>index</th>\n",
       "      <th>sepal_length</th>\n",
       "      <th>sepal_width</th>\n",
       "      <th>petal_length</th>\n",
       "      <th>petal_width</th>\n",
       "      <th>species</th>\n",
       "      <th>new_sepal_length</th>\n",
       "    </tr>\n",
       "  </thead>\n",
       "  <tbody>\n",
       "    <tr>\n",
       "      <th>0</th>\n",
       "      <td>0</td>\n",
       "      <td>5.10000</td>\n",
       "      <td>3.50000</td>\n",
       "      <td>1.40000</td>\n",
       "      <td>0.20000</td>\n",
       "      <td>setosa</td>\n",
       "      <td>5.61000</td>\n",
       "    </tr>\n",
       "    <tr>\n",
       "      <th>1</th>\n",
       "      <td>1</td>\n",
       "      <td>4.90000</td>\n",
       "      <td>3.00000</td>\n",
       "      <td>1.40000</td>\n",
       "      <td>0.20000</td>\n",
       "      <td>setosa</td>\n",
       "      <td>5.39000</td>\n",
       "    </tr>\n",
       "  </tbody>\n",
       "</table>\n",
       "</div>"
      ],
      "text/plain": [
       "   index  sepal_length  sepal_width  petal_length  petal_width species  \\\n",
       "0      0       5.10000      3.50000       1.40000      0.20000  setosa   \n",
       "1      1       4.90000      3.00000       1.40000      0.20000  setosa   \n",
       "\n",
       "   new_sepal_length  \n",
       "0           5.61000  \n",
       "1           5.39000  "
      ]
     },
     "execution_count": 8,
     "metadata": {},
     "output_type": "execute_result"
    }
   ],
   "source": [
    "df.reset_index(drop = False, inplace = True)\n",
    "df.head(2)"
   ]
  },
  {
   "cell_type": "code",
   "execution_count": 9,
   "metadata": {},
   "outputs": [
    {
     "data": {
      "text/html": [
       "<div>\n",
       "<style scoped>\n",
       "    .dataframe tbody tr th:only-of-type {\n",
       "        vertical-align: middle;\n",
       "    }\n",
       "\n",
       "    .dataframe tbody tr th {\n",
       "        vertical-align: top;\n",
       "    }\n",
       "\n",
       "    .dataframe thead th {\n",
       "        text-align: right;\n",
       "    }\n",
       "</style>\n",
       "<table border=\"1\" class=\"dataframe\">\n",
       "  <thead>\n",
       "    <tr style=\"text-align: right;\">\n",
       "      <th></th>\n",
       "      <th>species</th>\n",
       "      <th>sepal_length</th>\n",
       "    </tr>\n",
       "  </thead>\n",
       "  <tbody>\n",
       "    <tr>\n",
       "      <th>0</th>\n",
       "      <td>virginica</td>\n",
       "      <td>6.58800</td>\n",
       "    </tr>\n",
       "    <tr>\n",
       "      <th>1</th>\n",
       "      <td>versicolor</td>\n",
       "      <td>5.93600</td>\n",
       "    </tr>\n",
       "    <tr>\n",
       "      <th>2</th>\n",
       "      <td>setosa</td>\n",
       "      <td>5.00600</td>\n",
       "    </tr>\n",
       "  </tbody>\n",
       "</table>\n",
       "</div>"
      ],
      "text/plain": [
       "      species  sepal_length\n",
       "0   virginica       6.58800\n",
       "1  versicolor       5.93600\n",
       "2      setosa       5.00600"
      ]
     },
     "execution_count": 9,
     "metadata": {},
     "output_type": "execute_result"
    }
   ],
   "source": [
    "ser_a = df.groupby(\"species\")[\"sepal_length\"].mean().sort_values(ascending = False).reset_index(drop = False)\n",
    "df_a = pd.DataFrame(ser_a)\n",
    "df_a"
   ]
  },
  {
   "cell_type": "code",
   "execution_count": 10,
   "metadata": {},
   "outputs": [
    {
     "data": {
      "text/plain": [
       "['virginica', 'versicolor', 'setosa']"
      ]
     },
     "execution_count": 10,
     "metadata": {},
     "output_type": "execute_result"
    }
   ],
   "source": [
    "ser_a = df.groupby(\"species\")[\"sepal_length\"].mean().sort_values(ascending = False)\n",
    "ser_a.index.tolist()"
   ]
  },
  {
   "cell_type": "markdown",
   "metadata": {},
   "source": [
    "## Seaborn Familiarity Test"
   ]
  },
  {
   "cell_type": "raw",
   "metadata": {},
   "source": [
    "What is a categorical variable?\n",
    "A categorical variable takes on a limited, and usually fixed, number of possible values (categories; levels in R). Examples are gender, social class, blood type, country affiliation, observation time or rating via Likert scales. \n",
    "\n",
    "What is a continous variable?\n",
    "Can take on unlimited or infinite values. Typically contains units. e.g. distance in kilometers, or litres of milk or weight of a person etc. Can also take decimal values. caveat should you treat temperature as continuous if it only takes on two values in your dataset?\n",
    "\n",
    "Typical syntax for seaborn?\n",
    "provide argument for x: horizontal axis (specify name of col in dataframe)\n",
    "provide arg for y: vertical axis (specify name of col in dataframe)\n",
    "provide arg for data: specify name of dataframe\n",
    "\n",
    "How to know which plot to use?\n",
    "1. Find out which type of variables you want to visualize on the plot (i.e. continuous/categorical)\n",
    "2. Use slides from Week 3 to guide name of plot (i.e. count plot, scatter plot)\n",
    "3. To get the code, use existing notebooks e.g. visualization.ipynb or just google seaborn <name of plot> (e.g. scatter plot) to look at code examples at seaborn.pydata.org/... \n"
   ]
  },
  {
   "cell_type": "code",
   "execution_count": 11,
   "metadata": {},
   "outputs": [
    {
     "data": {
      "text/plain": [
       "<AxesSubplot:xlabel='sepal_length', ylabel='sepal_width'>"
      ]
     },
     "execution_count": 11,
     "metadata": {},
     "output_type": "execute_result"
    },
    {
     "data": {
      "image/png": "[encoded data removed]",
      "text/plain": [
       "<Figure size 432x288 with 1 Axes>"
      ]
     },
     "metadata": {
      "needs_background": "light"
     },
     "output_type": "display_data"
    }
   ],
   "source": [
    "#hue is typically a categorical variable. x refers to horizontal axis, y refers to vertical axis.\n",
    "sns.scatterplot(x = \"sepal_length\", y = \"sepal_width\", hue = \"species\", data = df)"
   ]
  },
  {
   "cell_type": "code",
   "execution_count": 12,
   "metadata": {},
   "outputs": [
    {
     "data": {
      "text/html": [
       "<div>\n",
       "<style scoped>\n",
       "    .dataframe tbody tr th:only-of-type {\n",
       "        vertical-align: middle;\n",
       "    }\n",
       "\n",
       "    .dataframe tbody tr th {\n",
       "        vertical-align: top;\n",
       "    }\n",
       "\n",
       "    .dataframe thead th {\n",
       "        text-align: right;\n",
       "    }\n",
       "</style>\n",
       "<table border=\"1\" class=\"dataframe\">\n",
       "  <thead>\n",
       "    <tr style=\"text-align: right;\">\n",
       "      <th></th>\n",
       "      <th>Unnamed: 0</th>\n",
       "      <th>id</th>\n",
       "      <th>diet</th>\n",
       "      <th>pulse</th>\n",
       "      <th>time</th>\n",
       "      <th>kind</th>\n",
       "    </tr>\n",
       "  </thead>\n",
       "  <tbody>\n",
       "    <tr>\n",
       "      <th>0</th>\n",
       "      <td>0</td>\n",
       "      <td>1</td>\n",
       "      <td>low fat</td>\n",
       "      <td>85</td>\n",
       "      <td>1 min</td>\n",
       "      <td>rest</td>\n",
       "    </tr>\n",
       "    <tr>\n",
       "      <th>1</th>\n",
       "      <td>1</td>\n",
       "      <td>1</td>\n",
       "      <td>low fat</td>\n",
       "      <td>85</td>\n",
       "      <td>15 min</td>\n",
       "      <td>rest</td>\n",
       "    </tr>\n",
       "  </tbody>\n",
       "</table>\n",
       "</div>"
      ],
      "text/plain": [
       "   Unnamed: 0  id     diet  pulse    time  kind\n",
       "0           0   1  low fat     85   1 min  rest\n",
       "1           1   1  low fat     85  15 min  rest"
      ]
     },
     "execution_count": 12,
     "metadata": {},
     "output_type": "execute_result"
    }
   ],
   "source": [
    "df_exercise = sns.load_dataset(\"exercise\")\n",
    "df_exercise.head(2)"
   ]
  },
  {
   "cell_type": "code",
   "execution_count": 13,
   "metadata": {},
   "outputs": [
    {
     "data": {
      "text/plain": [
       "1 min     30\n",
       "15 min    30\n",
       "30 min    30\n",
       "Name: time, dtype: int64"
      ]
     },
     "execution_count": 13,
     "metadata": {},
     "output_type": "execute_result"
    }
   ],
   "source": [
    "df_exercise[\"time\"].value_counts()"
   ]
  },
  {
   "cell_type": "code",
   "execution_count": 14,
   "metadata": {},
   "outputs": [
    {
     "data": {
      "text/plain": [
       "<seaborn.axisgrid.FacetGrid at 0x24aa5083d00>"
      ]
     },
     "execution_count": 14,
     "metadata": {},
     "output_type": "execute_result"
    },
    {
     "data": {
      "image/png": "[encoded data removed]",
      "text/plain": [
       "<Figure size 794.875x360 with 2 Axes>"
      ]
     },
     "metadata": {
      "needs_background": "light"
     },
     "output_type": "display_data"
    }
   ],
   "source": [
    "#notice we consider time as a categorical variable\n",
    "# refer here to see various values accepted within the kind argument. In this case we use \"violin\"\n",
    "# https://seaborn.pydata.org/generated/seaborn.catplot.html#seaborn.catplot\n",
    "sns.catplot(x=\"time\", y=\"pulse\", hue=\"kind\",\n",
    "                col=\"diet\", kind=\"violin\", data=df_exercise)"
   ]
  }
 ],
 "metadata": {
  "kernelspec": {
   "display_name": "Python 3",
   "language": "python",
   "name": "python3"
  },
  "language_info": {
   "codemirror_mode": {
    "name": "ipython",
    "version": 3
   },
   "file_extension": ".py",
   "mimetype": "text/x-python",
   "name": "python",
   "nbconvert_exporter": "python",
   "pygments_lexer": "ipython3",
   "version": "3.8.5"
  }
 },
 "nbformat": 4,
 "nbformat_minor": 4
}
